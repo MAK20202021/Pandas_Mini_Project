{
 "cells": [
  {
   "cell_type": "markdown",
   "metadata": {},
   "source": [
    "## Pandas Mini Project with Stock Data\n",
    "\n",
    "This Mini Project provides the idea on how to load data into Pandas Dataframe. Here, I worked on three stock datasets from Google, Apple and Amazon. I load these three stock data from .csv files. "
   ]
  },
  {
   "cell_type": "code",
   "execution_count": 154,
   "metadata": {},
   "outputs": [
    {
     "data": {
      "text/html": [
       "<div>\n",
       "<style scoped>\n",
       "    .dataframe tbody tr th:only-of-type {\n",
       "        vertical-align: middle;\n",
       "    }\n",
       "\n",
       "    .dataframe tbody tr th {\n",
       "        vertical-align: top;\n",
       "    }\n",
       "\n",
       "    .dataframe thead th {\n",
       "        text-align: right;\n",
       "    }\n",
       "</style>\n",
       "<table border=\"1\" class=\"dataframe\">\n",
       "  <thead>\n",
       "    <tr style=\"text-align: right;\">\n",
       "      <th></th>\n",
       "      <th>Date</th>\n",
       "      <th>Open</th>\n",
       "      <th>High</th>\n",
       "      <th>Low</th>\n",
       "      <th>Close</th>\n",
       "      <th>Adj Close</th>\n",
       "      <th>Volume</th>\n",
       "    </tr>\n",
       "  </thead>\n",
       "  <tbody>\n",
       "    <tr>\n",
       "      <th>0</th>\n",
       "      <td>2004-08-19</td>\n",
       "      <td>49.676899</td>\n",
       "      <td>51.693783</td>\n",
       "      <td>47.669952</td>\n",
       "      <td>49.845802</td>\n",
       "      <td>49.845802</td>\n",
       "      <td>44994500</td>\n",
       "    </tr>\n",
       "    <tr>\n",
       "      <th>1</th>\n",
       "      <td>2004-08-20</td>\n",
       "      <td>50.178635</td>\n",
       "      <td>54.187561</td>\n",
       "      <td>49.925285</td>\n",
       "      <td>53.805050</td>\n",
       "      <td>53.805050</td>\n",
       "      <td>23005800</td>\n",
       "    </tr>\n",
       "    <tr>\n",
       "      <th>2</th>\n",
       "      <td>2004-08-23</td>\n",
       "      <td>55.017166</td>\n",
       "      <td>56.373344</td>\n",
       "      <td>54.172661</td>\n",
       "      <td>54.346527</td>\n",
       "      <td>54.346527</td>\n",
       "      <td>18393200</td>\n",
       "    </tr>\n",
       "    <tr>\n",
       "      <th>3</th>\n",
       "      <td>2004-08-24</td>\n",
       "      <td>55.260582</td>\n",
       "      <td>55.439419</td>\n",
       "      <td>51.450363</td>\n",
       "      <td>52.096165</td>\n",
       "      <td>52.096165</td>\n",
       "      <td>15361800</td>\n",
       "    </tr>\n",
       "    <tr>\n",
       "      <th>4</th>\n",
       "      <td>2004-08-25</td>\n",
       "      <td>52.140873</td>\n",
       "      <td>53.651051</td>\n",
       "      <td>51.604362</td>\n",
       "      <td>52.657513</td>\n",
       "      <td>52.657513</td>\n",
       "      <td>9257400</td>\n",
       "    </tr>\n",
       "  </tbody>\n",
       "</table>\n",
       "</div>"
      ],
      "text/plain": [
       "         Date       Open       High        Low      Close  Adj Close    Volume\n",
       "0  2004-08-19  49.676899  51.693783  47.669952  49.845802  49.845802  44994500\n",
       "1  2004-08-20  50.178635  54.187561  49.925285  53.805050  53.805050  23005800\n",
       "2  2004-08-23  55.017166  56.373344  54.172661  54.346527  54.346527  18393200\n",
       "3  2004-08-24  55.260582  55.439419  51.450363  52.096165  52.096165  15361800\n",
       "4  2004-08-25  52.140873  53.651051  51.604362  52.657513  52.657513   9257400"
      ]
     },
     "execution_count": 154,
     "metadata": {},
     "output_type": "execute_result"
    }
   ],
   "source": [
    "# importing pandas into Python\n",
    "import pandas as pd\n",
    "from datetime import datetime\n",
    "\n",
    "# reading stock data file into a data frame and see what it looks like\n",
    "Google_data = pd.read_csv('./GOOG.csv')\n",
    "\n",
    "# displaying the first 5 rows of the DataFrame\n",
    "Google_data.head(5)"
   ]
  },
  {
   "cell_type": "markdown",
   "metadata": {},
   "source": [
    "After looking at data, it is observed that all row in automatically labeled. \n",
    "Now, I load data from three different .csv files to get data for Google, Apple, and Amazon into separte DataFrames. For each stock data, I will load `Date` and `Adj Close` columns into the Dataframe. Another thing, I want `Date` column as a row index. I want the DataFrame to recognize the dates as actual dates (year/month/day) and not as strings, therefore, I needed to utilize `parse_dates` keyword as follows."
   ]
  },
  {
   "cell_type": "code",
   "execution_count": 155,
   "metadata": {},
   "outputs": [
    {
     "data": {
      "text/html": [
       "<div>\n",
       "<style scoped>\n",
       "    .dataframe tbody tr th:only-of-type {\n",
       "        vertical-align: middle;\n",
       "    }\n",
       "\n",
       "    .dataframe tbody tr th {\n",
       "        vertical-align: top;\n",
       "    }\n",
       "\n",
       "    .dataframe thead th {\n",
       "        text-align: right;\n",
       "    }\n",
       "</style>\n",
       "<table border=\"1\" class=\"dataframe\">\n",
       "  <thead>\n",
       "    <tr style=\"text-align: right;\">\n",
       "      <th></th>\n",
       "      <th>Adj Close</th>\n",
       "    </tr>\n",
       "    <tr>\n",
       "      <th>Date</th>\n",
       "      <th></th>\n",
       "    </tr>\n",
       "  </thead>\n",
       "  <tbody>\n",
       "    <tr>\n",
       "      <th>2000-01-03</th>\n",
       "      <td>89.375000</td>\n",
       "    </tr>\n",
       "    <tr>\n",
       "      <th>2000-01-04</th>\n",
       "      <td>81.937500</td>\n",
       "    </tr>\n",
       "    <tr>\n",
       "      <th>2000-01-05</th>\n",
       "      <td>69.750000</td>\n",
       "    </tr>\n",
       "    <tr>\n",
       "      <th>2000-01-06</th>\n",
       "      <td>65.562500</td>\n",
       "    </tr>\n",
       "    <tr>\n",
       "      <th>2000-01-07</th>\n",
       "      <td>69.562500</td>\n",
       "    </tr>\n",
       "    <tr>\n",
       "      <th>...</th>\n",
       "      <td>...</td>\n",
       "    </tr>\n",
       "    <tr>\n",
       "      <th>2017-10-09</th>\n",
       "      <td>990.989990</td>\n",
       "    </tr>\n",
       "    <tr>\n",
       "      <th>2017-10-10</th>\n",
       "      <td>987.200012</td>\n",
       "    </tr>\n",
       "    <tr>\n",
       "      <th>2017-10-11</th>\n",
       "      <td>995.000000</td>\n",
       "    </tr>\n",
       "    <tr>\n",
       "      <th>2017-10-12</th>\n",
       "      <td>1000.929993</td>\n",
       "    </tr>\n",
       "    <tr>\n",
       "      <th>2017-10-13</th>\n",
       "      <td>1002.940002</td>\n",
       "    </tr>\n",
       "  </tbody>\n",
       "</table>\n",
       "<p>4475 rows × 1 columns</p>\n",
       "</div>"
      ],
      "text/plain": [
       "              Adj Close\n",
       "Date                   \n",
       "2000-01-03    89.375000\n",
       "2000-01-04    81.937500\n",
       "2000-01-05    69.750000\n",
       "2000-01-06    65.562500\n",
       "2000-01-07    69.562500\n",
       "...                 ...\n",
       "2017-10-09   990.989990\n",
       "2017-10-10   987.200012\n",
       "2017-10-11   995.000000\n",
       "2017-10-12  1000.929993\n",
       "2017-10-13  1002.940002\n",
       "\n",
       "[4475 rows x 1 columns]"
      ]
     },
     "execution_count": 155,
     "metadata": {},
     "output_type": "execute_result"
    }
   ],
   "source": [
    "#loading three stock datasets and selecting appropriate columns\n",
    "Google_data = pd.read_csv('./GOOG.csv',index_col = ['Date'],parse_dates = True,usecols = ['Date','Adj Close'])\n",
    "Apple_data = pd.read_csv('./AAPL.csv',index_col = ['Date'],parse_dates = True,usecols = ['Date','Adj Close'])\n",
    "Amazon_data = pd.read_csv('./AMZN.csv',index_col = ['Date'],parse_dates = True,usecols = ['Date','Adj Close'])\n",
    "Amazon_data"
   ]
  },
  {
   "cell_type": "markdown",
   "metadata": {},
   "source": [
    "I need to join the three DataFrames above to create a single new DataFrame that contains all the `Adj Close` for all the stocks. At first, I needed to create an empty DataFrame that has row indices calendar days between `2000-01-01`  and `2016-12-31`."
   ]
  },
  {
   "cell_type": "code",
   "execution_count": 156,
   "metadata": {},
   "outputs": [
    {
     "data": {
      "text/html": [
       "<div>\n",
       "<style scoped>\n",
       "    .dataframe tbody tr th:only-of-type {\n",
       "        vertical-align: middle;\n",
       "    }\n",
       "\n",
       "    .dataframe tbody tr th {\n",
       "        vertical-align: top;\n",
       "    }\n",
       "\n",
       "    .dataframe thead th {\n",
       "        text-align: right;\n",
       "    }\n",
       "</style>\n",
       "<table border=\"1\" class=\"dataframe\">\n",
       "  <thead>\n",
       "    <tr style=\"text-align: right;\">\n",
       "      <th></th>\n",
       "    </tr>\n",
       "  </thead>\n",
       "  <tbody>\n",
       "    <tr>\n",
       "      <th>2000-01-01</th>\n",
       "    </tr>\n",
       "    <tr>\n",
       "      <th>2000-01-02</th>\n",
       "    </tr>\n",
       "    <tr>\n",
       "      <th>2000-01-03</th>\n",
       "    </tr>\n",
       "    <tr>\n",
       "      <th>2000-01-04</th>\n",
       "    </tr>\n",
       "    <tr>\n",
       "      <th>2000-01-05</th>\n",
       "    </tr>\n",
       "    <tr>\n",
       "      <th>...</th>\n",
       "    </tr>\n",
       "    <tr>\n",
       "      <th>2016-12-27</th>\n",
       "    </tr>\n",
       "    <tr>\n",
       "      <th>2016-12-28</th>\n",
       "    </tr>\n",
       "    <tr>\n",
       "      <th>2016-12-29</th>\n",
       "    </tr>\n",
       "    <tr>\n",
       "      <th>2016-12-30</th>\n",
       "    </tr>\n",
       "    <tr>\n",
       "      <th>2016-12-31</th>\n",
       "    </tr>\n",
       "  </tbody>\n",
       "</table>\n",
       "<p>6210 rows × 0 columns</p>\n",
       "</div>"
      ],
      "text/plain": [
       "Empty DataFrame\n",
       "Columns: []\n",
       "Index: [2000-01-01 00:00:00, 2000-01-02 00:00:00, 2000-01-03 00:00:00, 2000-01-04 00:00:00, 2000-01-05 00:00:00, 2000-01-06 00:00:00, 2000-01-07 00:00:00, 2000-01-08 00:00:00, 2000-01-09 00:00:00, 2000-01-10 00:00:00, 2000-01-11 00:00:00, 2000-01-12 00:00:00, 2000-01-13 00:00:00, 2000-01-14 00:00:00, 2000-01-15 00:00:00, 2000-01-16 00:00:00, 2000-01-17 00:00:00, 2000-01-18 00:00:00, 2000-01-19 00:00:00, 2000-01-20 00:00:00, 2000-01-21 00:00:00, 2000-01-22 00:00:00, 2000-01-23 00:00:00, 2000-01-24 00:00:00, 2000-01-25 00:00:00, 2000-01-26 00:00:00, 2000-01-27 00:00:00, 2000-01-28 00:00:00, 2000-01-29 00:00:00, 2000-01-30 00:00:00, 2000-01-31 00:00:00, 2000-02-01 00:00:00, 2000-02-02 00:00:00, 2000-02-03 00:00:00, 2000-02-04 00:00:00, 2000-02-05 00:00:00, 2000-02-06 00:00:00, 2000-02-07 00:00:00, 2000-02-08 00:00:00, 2000-02-09 00:00:00, 2000-02-10 00:00:00, 2000-02-11 00:00:00, 2000-02-12 00:00:00, 2000-02-13 00:00:00, 2000-02-14 00:00:00, 2000-02-15 00:00:00, 2000-02-16 00:00:00, 2000-02-17 00:00:00, 2000-02-18 00:00:00, 2000-02-19 00:00:00, 2000-02-20 00:00:00, 2000-02-21 00:00:00, 2000-02-22 00:00:00, 2000-02-23 00:00:00, 2000-02-24 00:00:00, 2000-02-25 00:00:00, 2000-02-26 00:00:00, 2000-02-27 00:00:00, 2000-02-28 00:00:00, 2000-02-29 00:00:00, 2000-03-01 00:00:00, 2000-03-02 00:00:00, 2000-03-03 00:00:00, 2000-03-04 00:00:00, 2000-03-05 00:00:00, 2000-03-06 00:00:00, 2000-03-07 00:00:00, 2000-03-08 00:00:00, 2000-03-09 00:00:00, 2000-03-10 00:00:00, 2000-03-11 00:00:00, 2000-03-12 00:00:00, 2000-03-13 00:00:00, 2000-03-14 00:00:00, 2000-03-15 00:00:00, 2000-03-16 00:00:00, 2000-03-17 00:00:00, 2000-03-18 00:00:00, 2000-03-19 00:00:00, 2000-03-20 00:00:00, 2000-03-21 00:00:00, 2000-03-22 00:00:00, 2000-03-23 00:00:00, 2000-03-24 00:00:00, 2000-03-25 00:00:00, 2000-03-26 00:00:00, 2000-03-27 00:00:00, 2000-03-28 00:00:00, 2000-03-29 00:00:00, 2000-03-30 00:00:00, 2000-03-31 00:00:00, 2000-04-01 00:00:00, 2000-04-02 00:00:00, 2000-04-03 00:00:00, 2000-04-04 00:00:00, 2000-04-05 00:00:00, 2000-04-06 00:00:00, 2000-04-07 00:00:00, 2000-04-08 00:00:00, 2000-04-09 00:00:00, ...]\n",
       "\n",
       "[6210 rows x 0 columns]"
      ]
     },
     "execution_count": 156,
     "metadata": {},
     "output_type": "execute_result"
    }
   ],
   "source": [
    "# Creating calendar dates between '2000-01-01' and  '2016-12-31'\n",
    "dates = pd.date_range('2000-01-01', '2016-12-31')\n",
    "\n",
    "# Creating an empty DataFrame that uses the above dates as indices\n",
    "all_stocks = pd.DataFrame(index = dates)\n",
    "all_stocks"
   ]
  },
  {
   "cell_type": "markdown",
   "metadata": {},
   "source": [
    "Now, I need to join the the individual DataFrames, `Google_Data`, `Apple_Data`, and `Amazon_Data`, to the `all_stocks` DataFrame. Before joining them, I need to change the columns name for each datasets as the column labels must be unique in case of joining. "
   ]
  },
  {
   "cell_type": "code",
   "execution_count": 157,
   "metadata": {},
   "outputs": [],
   "source": [
    "# Changing the Adj Close column label to Google\n",
    "Google_data = Google_data.rename(columns={'Adj Close':'Google'})\n",
    "\n",
    "# Changing the Adj Close column label to Apple\n",
    "Apple_data = Apple_data.rename(columns={'Adj Close':'Apple'})\n",
    "\n",
    "# Changing the Adj Close column label to Amazon\n",
    "Amazon_data = Amazon_data.rename(columns={'Adj Close':'Amazon'})\n",
    "  "
   ]
  },
  {
   "cell_type": "markdown",
   "metadata": {},
   "source": [
    "Checking the columns of all datasets..."
   ]
  },
  {
   "cell_type": "code",
   "execution_count": 158,
   "metadata": {},
   "outputs": [
    {
     "data": {
      "text/plain": [
       "Index(['Google'], dtype='object')"
      ]
     },
     "execution_count": 158,
     "metadata": {},
     "output_type": "execute_result"
    }
   ],
   "source": [
    "# Checking columns of the Google_data DataFrame\n",
    "Google_data.columns"
   ]
  },
  {
   "cell_type": "code",
   "execution_count": 159,
   "metadata": {},
   "outputs": [
    {
     "data": {
      "text/plain": [
       "Index(['Apple'], dtype='object')"
      ]
     },
     "execution_count": 159,
     "metadata": {},
     "output_type": "execute_result"
    }
   ],
   "source": [
    "# Checking columns of the Apple_data DataFrame\n",
    "Apple_data.columns"
   ]
  },
  {
   "cell_type": "code",
   "execution_count": 160,
   "metadata": {},
   "outputs": [
    {
     "data": {
      "text/plain": [
       "Index(['Amazon'], dtype='object')"
      ]
     },
     "execution_count": 160,
     "metadata": {},
     "output_type": "execute_result"
    }
   ],
   "source": [
    "# Checking columns of the Amazon_data DataFrame\n",
    "Amazon_data.columns"
   ]
  },
  {
   "cell_type": "markdown",
   "metadata": {},
   "source": [
    "Now there are unique column labels, I can join the individual DataFrames to the `all_stocks` DataFrame. "
   ]
  },
  {
   "cell_type": "code",
   "execution_count": 161,
   "metadata": {},
   "outputs": [],
   "source": [
    "# Joining the Google stock to all_stocks\n",
    "all_stocks = all_stocks.join(Google_data)\n",
    "\n",
    "# Joining the Apple stock to all_stocks\n",
    "all_stocks = all_stocks.join(Apple_data)\n",
    "\n",
    "# Joining the Amazon stock to all_stocks\n",
    "all_stocks = all_stocks.join(Amazon_data)"
   ]
  },
  {
   "cell_type": "markdown",
   "metadata": {},
   "source": [
    "Checking that the dataframes have been joined correctly by displaying the `all_stocks`  dataframe..."
   ]
  },
  {
   "cell_type": "code",
   "execution_count": 162,
   "metadata": {},
   "outputs": [
    {
     "data": {
      "text/html": [
       "<div>\n",
       "<style scoped>\n",
       "    .dataframe tbody tr th:only-of-type {\n",
       "        vertical-align: middle;\n",
       "    }\n",
       "\n",
       "    .dataframe tbody tr th {\n",
       "        vertical-align: top;\n",
       "    }\n",
       "\n",
       "    .dataframe thead th {\n",
       "        text-align: right;\n",
       "    }\n",
       "</style>\n",
       "<table border=\"1\" class=\"dataframe\">\n",
       "  <thead>\n",
       "    <tr style=\"text-align: right;\">\n",
       "      <th></th>\n",
       "      <th>Google</th>\n",
       "      <th>Apple</th>\n",
       "      <th>Amazon</th>\n",
       "    </tr>\n",
       "  </thead>\n",
       "  <tbody>\n",
       "    <tr>\n",
       "      <th>2000-01-01</th>\n",
       "      <td>NaN</td>\n",
       "      <td>NaN</td>\n",
       "      <td>NaN</td>\n",
       "    </tr>\n",
       "    <tr>\n",
       "      <th>2000-01-02</th>\n",
       "      <td>NaN</td>\n",
       "      <td>NaN</td>\n",
       "      <td>NaN</td>\n",
       "    </tr>\n",
       "    <tr>\n",
       "      <th>2000-01-03</th>\n",
       "      <td>NaN</td>\n",
       "      <td>3.596616</td>\n",
       "      <td>89.3750</td>\n",
       "    </tr>\n",
       "    <tr>\n",
       "      <th>2000-01-04</th>\n",
       "      <td>NaN</td>\n",
       "      <td>3.293384</td>\n",
       "      <td>81.9375</td>\n",
       "    </tr>\n",
       "    <tr>\n",
       "      <th>2000-01-05</th>\n",
       "      <td>NaN</td>\n",
       "      <td>3.341579</td>\n",
       "      <td>69.7500</td>\n",
       "    </tr>\n",
       "    <tr>\n",
       "      <th>2000-01-06</th>\n",
       "      <td>NaN</td>\n",
       "      <td>3.052405</td>\n",
       "      <td>65.5625</td>\n",
       "    </tr>\n",
       "    <tr>\n",
       "      <th>2000-01-07</th>\n",
       "      <td>NaN</td>\n",
       "      <td>3.196992</td>\n",
       "      <td>69.5625</td>\n",
       "    </tr>\n",
       "    <tr>\n",
       "      <th>2000-01-08</th>\n",
       "      <td>NaN</td>\n",
       "      <td>NaN</td>\n",
       "      <td>NaN</td>\n",
       "    </tr>\n",
       "    <tr>\n",
       "      <th>2000-01-09</th>\n",
       "      <td>NaN</td>\n",
       "      <td>NaN</td>\n",
       "      <td>NaN</td>\n",
       "    </tr>\n",
       "    <tr>\n",
       "      <th>2000-01-10</th>\n",
       "      <td>NaN</td>\n",
       "      <td>3.140763</td>\n",
       "      <td>69.1875</td>\n",
       "    </tr>\n",
       "  </tbody>\n",
       "</table>\n",
       "</div>"
      ],
      "text/plain": [
       "            Google     Apple   Amazon\n",
       "2000-01-01     NaN       NaN      NaN\n",
       "2000-01-02     NaN       NaN      NaN\n",
       "2000-01-03     NaN  3.596616  89.3750\n",
       "2000-01-04     NaN  3.293384  81.9375\n",
       "2000-01-05     NaN  3.341579  69.7500\n",
       "2000-01-06     NaN  3.052405  65.5625\n",
       "2000-01-07     NaN  3.196992  69.5625\n",
       "2000-01-08     NaN       NaN      NaN\n",
       "2000-01-09     NaN       NaN      NaN\n",
       "2000-01-10     NaN  3.140763  69.1875"
      ]
     },
     "execution_count": 162,
     "metadata": {},
     "output_type": "execute_result"
    }
   ],
   "source": [
    "# Displaying the all_stocks DataFrame\n",
    "all_stocks.head(10)"
   ]
  },
  {
   "cell_type": "markdown",
   "metadata": {},
   "source": [
    "For the further calculation, I need to check how many *NaN* values are in the `all_stocks`  dataframe."
   ]
  },
  {
   "cell_type": "code",
   "execution_count": 163,
   "metadata": {},
   "outputs": [
    {
     "data": {
      "text/plain": [
       "6961"
      ]
     },
     "execution_count": 163,
     "metadata": {},
     "output_type": "execute_result"
    }
   ],
   "source": [
    "# Checking if there are any NaN values in the all_stocks dataframe\n",
    "all_stocks.describe()\n",
    "all_stocks.isnull().sum().sum()"
   ]
  },
  {
   "cell_type": "code",
   "execution_count": 164,
   "metadata": {},
   "outputs": [],
   "source": [
    "# Remove any rows that contain NaN values\n",
    "all_stocks.dropna(axis=0, inplace= True)"
   ]
  },
  {
   "cell_type": "markdown",
   "metadata": {},
   "source": [
    "Checking whether the *NaN* values have been eliminated by displaying the `all_stocks`  dataframe"
   ]
  },
  {
   "cell_type": "code",
   "execution_count": 165,
   "metadata": {},
   "outputs": [
    {
     "data": {
      "text/plain": [
       "Google    0\n",
       "Apple     0\n",
       "Amazon    0\n",
       "dtype: int64"
      ]
     },
     "execution_count": 165,
     "metadata": {},
     "output_type": "execute_result"
    }
   ],
   "source": [
    "# Checking if there are any NaN values in the all_stocks dataframe\n",
    "all_stocks.isnull().sum()"
   ]
  },
  {
   "cell_type": "code",
   "execution_count": 166,
   "metadata": {},
   "outputs": [
    {
     "data": {
      "text/html": [
       "<div>\n",
       "<style scoped>\n",
       "    .dataframe tbody tr th:only-of-type {\n",
       "        vertical-align: middle;\n",
       "    }\n",
       "\n",
       "    .dataframe tbody tr th {\n",
       "        vertical-align: top;\n",
       "    }\n",
       "\n",
       "    .dataframe thead th {\n",
       "        text-align: right;\n",
       "    }\n",
       "</style>\n",
       "<table border=\"1\" class=\"dataframe\">\n",
       "  <thead>\n",
       "    <tr style=\"text-align: right;\">\n",
       "      <th></th>\n",
       "      <th>Google</th>\n",
       "      <th>Apple</th>\n",
       "      <th>Amazon</th>\n",
       "    </tr>\n",
       "  </thead>\n",
       "  <tbody>\n",
       "    <tr>\n",
       "      <th>2004-08-19</th>\n",
       "      <td>49.845802</td>\n",
       "      <td>1.973460</td>\n",
       "      <td>38.630001</td>\n",
       "    </tr>\n",
       "    <tr>\n",
       "      <th>2004-08-20</th>\n",
       "      <td>53.805050</td>\n",
       "      <td>1.979244</td>\n",
       "      <td>39.509998</td>\n",
       "    </tr>\n",
       "    <tr>\n",
       "      <th>2004-08-23</th>\n",
       "      <td>54.346527</td>\n",
       "      <td>1.997236</td>\n",
       "      <td>39.450001</td>\n",
       "    </tr>\n",
       "    <tr>\n",
       "      <th>2004-08-24</th>\n",
       "      <td>52.096165</td>\n",
       "      <td>2.053144</td>\n",
       "      <td>39.049999</td>\n",
       "    </tr>\n",
       "    <tr>\n",
       "      <th>2004-08-25</th>\n",
       "      <td>52.657513</td>\n",
       "      <td>2.123831</td>\n",
       "      <td>40.299999</td>\n",
       "    </tr>\n",
       "    <tr>\n",
       "      <th>...</th>\n",
       "      <td>...</td>\n",
       "      <td>...</td>\n",
       "      <td>...</td>\n",
       "    </tr>\n",
       "    <tr>\n",
       "      <th>2016-12-23</th>\n",
       "      <td>789.909973</td>\n",
       "      <td>115.088142</td>\n",
       "      <td>760.590027</td>\n",
       "    </tr>\n",
       "    <tr>\n",
       "      <th>2016-12-27</th>\n",
       "      <td>791.549988</td>\n",
       "      <td>115.819054</td>\n",
       "      <td>771.400024</td>\n",
       "    </tr>\n",
       "    <tr>\n",
       "      <th>2016-12-28</th>\n",
       "      <td>785.049988</td>\n",
       "      <td>115.325203</td>\n",
       "      <td>772.130005</td>\n",
       "    </tr>\n",
       "    <tr>\n",
       "      <th>2016-12-29</th>\n",
       "      <td>782.789978</td>\n",
       "      <td>115.295570</td>\n",
       "      <td>765.150024</td>\n",
       "    </tr>\n",
       "    <tr>\n",
       "      <th>2016-12-30</th>\n",
       "      <td>771.820007</td>\n",
       "      <td>114.396751</td>\n",
       "      <td>749.869995</td>\n",
       "    </tr>\n",
       "  </tbody>\n",
       "</table>\n",
       "<p>3115 rows × 3 columns</p>\n",
       "</div>"
      ],
      "text/plain": [
       "                Google       Apple      Amazon\n",
       "2004-08-19   49.845802    1.973460   38.630001\n",
       "2004-08-20   53.805050    1.979244   39.509998\n",
       "2004-08-23   54.346527    1.997236   39.450001\n",
       "2004-08-24   52.096165    2.053144   39.049999\n",
       "2004-08-25   52.657513    2.123831   40.299999\n",
       "...                ...         ...         ...\n",
       "2016-12-23  789.909973  115.088142  760.590027\n",
       "2016-12-27  791.549988  115.819054  771.400024\n",
       "2016-12-28  785.049988  115.325203  772.130005\n",
       "2016-12-29  782.789978  115.295570  765.150024\n",
       "2016-12-30  771.820007  114.396751  749.869995\n",
       "\n",
       "[3115 rows x 3 columns]"
      ]
     },
     "execution_count": 166,
     "metadata": {},
     "output_type": "execute_result"
    }
   ],
   "source": [
    "# Displaying the all_stocks DataFrame\n",
    "all_stocks"
   ]
  },
  {
   "cell_type": "markdown",
   "metadata": {},
   "source": [
    "Now, I can do some basic calculation with the stock dataset..."
   ]
  },
  {
   "cell_type": "code",
   "execution_count": 167,
   "metadata": {},
   "outputs": [
    {
     "name": "stdout",
     "output_type": "stream",
     "text": [
      "Average stock price:\n",
      " Google    347.420229\n",
      "Apple      47.736018\n",
      "Amazon    216.598177\n",
      "dtype: float64\n",
      "Median stock price for each stock:\n",
      " Google    286.397247\n",
      "Apple      39.461483\n",
      "Amazon    161.820007\n",
      "dtype: float64\n",
      "Standard deviation of the stock price for each stock:\n",
      " Google    187.671596\n",
      "Apple      37.421555\n",
      "Amazon    199.129792\n",
      "dtype: float64\n",
      "Correlation between stocks:\n",
      "           Google     Apple    Amazon\n",
      "Google  1.000000  0.900242  0.952444\n",
      "Apple   0.900242  1.000000  0.886321\n",
      "Amazon  0.952444  0.886321  1.000000\n"
     ]
    }
   ],
   "source": [
    "# Printing the average stock price for each stock\n",
    "print(\"Average stock price:\\n\",all_stocks.mean())\n",
    "\n",
    "# Printing the median stock price for each stock\n",
    "print(\"Median stock price for each stock:\\n\",all_stocks.median())\n",
    "\n",
    "# Printing the standard deviation of the stock price for each stock  \n",
    "print(\"Standard deviation of the stock price for each stock:\\n\",all_stocks.std())\n",
    "\n",
    "# Printing the correlation between stocks\n",
    "print(\"Correlation between stocks:\\n\",all_stocks.corr())"
   ]
  },
  {
   "cell_type": "markdown",
   "metadata": {},
   "source": [
    "I can do some rolling statistics with 150 day window for comparing with the average stock price..."
   ]
  },
  {
   "cell_type": "code",
   "execution_count": 170,
   "metadata": {},
   "outputs": [
    {
     "data": {
      "text/plain": [
       "2004-08-19           NaN\n",
       "2004-08-20           NaN\n",
       "2004-08-23           NaN\n",
       "2004-08-24           NaN\n",
       "2004-08-25           NaN\n",
       "                 ...    \n",
       "2016-12-23    764.176933\n",
       "2016-12-27    764.624933\n",
       "2016-12-28    765.050133\n",
       "2016-12-29    765.385067\n",
       "2016-12-30    765.635933\n",
       "Name: Amazon, Length: 3115, dtype: float64"
      ]
     },
     "execution_count": 170,
     "metadata": {},
     "output_type": "execute_result"
    }
   ],
   "source": [
    "# Computing the rolling mean using a 150-Day window for each stock\n",
    "rollingMean_Google = all_stocks.Google.rolling(150).mean()\n",
    "rollingMean_Apple = all_stocks.Apple.rolling(150).mean()\n",
    "rollingMean_Amazon = all_stocks.Amazon.rolling(150).mean()\n",
    "rollingMean_Amazon"
   ]
  },
  {
   "cell_type": "markdown",
   "metadata": {},
   "source": [
    "To visualize the comparison in graph I used **Matplotlib**. I plot the stock data on top of the rolling mean."
   ]
  },
  {
   "cell_type": "code",
   "execution_count": 122,
   "metadata": {},
   "outputs": [
    {
     "data": {
      "image/png": "[encoded data removed]",
      "text/plain": [
       "<Figure size 432x288 with 1 Axes>"
      ]
     },
     "metadata": {
      "needs_background": "light"
     },
     "output_type": "display_data"
    }
   ],
   "source": [
    "%matplotlib inline\n",
    "\n",
    "# Importing matplotlib into Python\n",
    "import matplotlib.pyplot as plt\n",
    "\n",
    "# Plotting the Google stock data\n",
    "plt.plot(all_stocks['Google'])\n",
    "\n",
    "# Plotting the rolling mean ontop of our Google stock data\n",
    "plt.plot(rollingMean_Google)\n",
    "plt.legend(['Google Stock Price', 'Rolling Mean'])\n",
    "plt.show()"
   ]
  },
  {
   "cell_type": "code",
   "execution_count": 171,
   "metadata": {},
   "outputs": [
    {
     "data": {
      "image/png": "[encoded data removed]",
      "text/plain": [
       "<Figure size 432x288 with 1 Axes>"
      ]
     },
     "metadata": {
      "needs_background": "light"
     },
     "output_type": "display_data"
    }
   ],
   "source": [
    "# Plotting the Apple stock data\n",
    "plt.plot(all_stocks['Apple'])\n",
    "\n",
    "# Plotting the rolling mean ontop of our Apple stock data\n",
    "plt.plot(rollingMean_Apple)\n",
    "plt.legend(['Apple Stock Price', 'Rolling Mean'])\n",
    "plt.show()"
   ]
  },
  {
   "cell_type": "code",
   "execution_count": 172,
   "metadata": {},
   "outputs": [
    {
     "data": {
      "image/png": "[encoded data removed]",
      "text/plain": [
       "<Figure size 432x288 with 1 Axes>"
      ]
     },
     "metadata": {
      "needs_background": "light"
     },
     "output_type": "display_data"
    }
   ],
   "source": [
    "# Plotting the Amazon stock data\n",
    "plt.plot(all_stocks['Amazon'])\n",
    "\n",
    "# Plotting the rolling mean ontop of our Amazon stock data\n",
    "plt.plot(rollingMean_Amazon)\n",
    "plt.legend(['Amazon Stock Price', 'Rolling Mean'])\n",
    "plt.show()"
   ]
  },
  {
   "cell_type": "code",
   "execution_count": null,
   "metadata": {},
   "outputs": [],
   "source": []
  }
 ],
 "metadata": {
  "kernelspec": {
   "display_name": "Python 3",
   "language": "python",
   "name": "python3"
  },
  "language_info": {
   "codemirror_mode": {
    "name": "ipython",
    "version": 3
   },
   "file_extension": ".py",
   "mimetype": "text/x-python",
   "name": "python",
   "nbconvert_exporter": "python",
   "pygments_lexer": "ipython3",
   "version": "3.8.5"
  }
 },
 "nbformat": 4,
 "nbformat_minor": 2
}
